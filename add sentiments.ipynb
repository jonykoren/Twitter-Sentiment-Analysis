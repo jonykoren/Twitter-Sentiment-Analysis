{
 "cells": [
  {
   "cell_type": "code",
   "execution_count": 6,
   "metadata": {},
   "outputs": [],
   "source": [
    "import pandas as pd\n",
    "from textblob import TextBlob"
   ]
  },
  {
   "cell_type": "code",
   "execution_count": 2,
   "metadata": {},
   "outputs": [],
   "source": [
    "# North America\n",
    "\n",
    "df = pd.read_csv('North America/North_America.csv', index_col=0, encoding='ISO-8859-1', skiprows=0)\n",
    "texts=df[\"text\"]\n",
    "sents=[]\n",
    "sents_name = []\n",
    "for i in texts:\n",
    "    pol=(TextBlob(i))\n",
    "    sents.append(pol.sentiment.polarity)\n",
    "    if (pol.sentiment.polarity) == 0:\n",
    "        sents_name.append(\"Neutral\")\n",
    "    elif (pol.sentiment.polarity) > 0:\n",
    "        sents_name.append(\"Positive\")\n",
    "    elif (pol.sentiment.polarity) < 0:\n",
    "        sents_name.append(\"Negative\")\n",
    "# Using DataFrame.insert() to add the sentiment value as a column \n",
    "df.insert(2,\"sentiment_values\", sents, True) \n",
    "df.insert(3,\"sentiment_name\", sents_name, True)\n",
    "\n",
    "df.to_excel (r'C:/Users/User/Desktop/webintelligence-master/dat/North_America.xlsx', index = None, header=True)"
   ]
  },
  {
   "cell_type": "code",
   "execution_count": 9,
   "metadata": {},
   "outputs": [],
   "source": [
    "# South America\n",
    "\n",
    "df = pd.read_csv('South America/South_America.csv', index_col=0, encoding='ISO-8859-1', skiprows=0)\n",
    "texts=df[\"text\"]\n",
    "sents=[]\n",
    "sents_name = []\n",
    "for i in texts:\n",
    "    pol=(TextBlob(i))\n",
    "    sents.append(pol.sentiment.polarity)\n",
    "    if (pol.sentiment.polarity) == 0:\n",
    "        sents_name.append(\"Neutral\")\n",
    "    elif (pol.sentiment.polarity) > 0:\n",
    "        sents_name.append(\"Positive\")\n",
    "    elif (pol.sentiment.polarity) < 0:\n",
    "        sents_name.append(\"Negative\")\n",
    "# Using DataFrame.insert() to add the sentiment value as a column \n",
    "df.insert(2,\"sentiment_values\", sents, True) \n",
    "df.insert(3,\"sentiment_name\", sents_name, True)\n",
    "\n",
    "df.to_excel (r'C:/Users/User/Desktop/webintelligence-master/dat/South_America.xlsx', index = None, header=True)"
   ]
  },
  {
   "cell_type": "code",
   "execution_count": 10,
   "metadata": {},
   "outputs": [],
   "source": [
    "# Europe\n",
    "\n",
    "df = pd.read_csv('Europe/Europe.csv', index_col=0, encoding='ISO-8859-1', skiprows=0)\n",
    "texts=df[\"text\"]\n",
    "sents=[]\n",
    "sents_name = []\n",
    "for i in texts:\n",
    "    pol=(TextBlob(i))\n",
    "    sents.append(pol.sentiment.polarity)\n",
    "    if (pol.sentiment.polarity) == 0:\n",
    "        sents_name.append(\"Neutral\")\n",
    "    elif (pol.sentiment.polarity) > 0:\n",
    "        sents_name.append(\"Positive\")\n",
    "    elif (pol.sentiment.polarity) < 0:\n",
    "        sents_name.append(\"Negative\")\n",
    "# Using DataFrame.insert() to add the sentiment value as a column \n",
    "df.insert(2,\"sentiment_values\", sents, True) \n",
    "df.insert(3,\"sentiment_name\", sents_name, True)\n",
    "\n",
    "df.to_excel (r'C:/Users/User/Desktop/webintelligence-master/dat/Europe.xlsx', index = None, header=True)"
   ]
  },
  {
   "cell_type": "code",
   "execution_count": 11,
   "metadata": {},
   "outputs": [],
   "source": [
    "# Africa\n",
    "\n",
    "df = pd.read_csv('Africa/Africa.csv', index_col=0, encoding='ISO-8859-1', skiprows=0)\n",
    "texts=df[\"text\"]\n",
    "sents=[]\n",
    "sents_name = []\n",
    "for i in texts:\n",
    "    pol=(TextBlob(i))\n",
    "    sents.append(pol.sentiment.polarity)\n",
    "    if (pol.sentiment.polarity) == 0:\n",
    "        sents_name.append(\"Neutral\")\n",
    "    elif (pol.sentiment.polarity) > 0:\n",
    "        sents_name.append(\"Positive\")\n",
    "    elif (pol.sentiment.polarity) < 0:\n",
    "        sents_name.append(\"Negative\")\n",
    "# Using DataFrame.insert() to add the sentiment value as a column \n",
    "df.insert(2,\"sentiment_values\", sents, True) \n",
    "df.insert(3,\"sentiment_name\", sents_name, True)\n",
    "\n",
    "df.to_excel (r'C:/Users/User/Desktop/webintelligence-master/dat/Africa.xlsx', index = None, header=True)"
   ]
  },
  {
   "cell_type": "code",
   "execution_count": 12,
   "metadata": {},
   "outputs": [],
   "source": [
    "# Asia\n",
    "\n",
    "df = pd.read_csv('Asia/Asia.csv', index_col=0, encoding='ISO-8859-1', skiprows=0)\n",
    "texts=df[\"text\"]\n",
    "sents=[]\n",
    "sents_name = []\n",
    "for i in texts:\n",
    "    pol=(TextBlob(i))\n",
    "    sents.append(pol.sentiment.polarity)\n",
    "    if (pol.sentiment.polarity) == 0:\n",
    "        sents_name.append(\"Neutral\")\n",
    "    elif (pol.sentiment.polarity) > 0:\n",
    "        sents_name.append(\"Positive\")\n",
    "    elif (pol.sentiment.polarity) < 0:\n",
    "        sents_name.append(\"Negative\")\n",
    "# Using DataFrame.insert() to add the sentiment value as a column \n",
    "df.insert(2,\"sentiment_values\", sents, True) \n",
    "df.insert(3,\"sentiment_name\", sents_name, True)\n",
    "\n",
    "df.to_excel (r'C:/Users/User/Desktop/webintelligence-master/dat/Asia.xlsx', index = None, header=True)"
   ]
  },
  {
   "cell_type": "code",
   "execution_count": 15,
   "metadata": {},
   "outputs": [],
   "source": [
    "# Australia\n",
    "\n",
    "df = pd.read_csv('Australia/Australia_Continent.csv', index_col=0, encoding='ISO-8859-1', skiprows=0)\n",
    "texts=df[\"text\"]\n",
    "sents=[]\n",
    "sents_name = []\n",
    "for i in texts:\n",
    "    pol=(TextBlob(i))\n",
    "    sents.append(pol.sentiment.polarity)\n",
    "    if (pol.sentiment.polarity) == 0:\n",
    "        sents_name.append(\"Neutral\")\n",
    "    elif (pol.sentiment.polarity) > 0:\n",
    "        sents_name.append(\"Positive\")\n",
    "    elif (pol.sentiment.polarity) < 0:\n",
    "        sents_name.append(\"Negative\")\n",
    "# Using DataFrame.insert() to add the sentiment value as a column \n",
    "df.insert(2,\"sentiment_values\", sents, True) \n",
    "df.insert(3,\"sentiment_name\", sents_name, True)\n",
    "\n",
    "df.to_excel (r'C:/Users/User/Desktop/webintelligence-master/dat/Australia.xlsx', index = None, header=True)"
   ]
  }
 ],
 "metadata": {
  "kernelspec": {
   "display_name": "Python 3",
   "language": "python",
   "name": "python3"
  },
  "language_info": {
   "codemirror_mode": {
    "name": "ipython",
    "version": 3
   },
   "file_extension": ".py",
   "mimetype": "text/x-python",
   "name": "python",
   "nbconvert_exporter": "python",
   "pygments_lexer": "ipython3",
   "version": "3.7.3"
  }
 },
 "nbformat": 4,
 "nbformat_minor": 2
}
