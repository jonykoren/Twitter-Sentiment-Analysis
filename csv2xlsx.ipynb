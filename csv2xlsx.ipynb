{
 "cells": [
  {
   "cell_type": "code",
   "execution_count": 1,
   "metadata": {},
   "outputs": [],
   "source": [
    "import pandas as pd"
   ]
  },
  {
   "cell_type": "code",
   "execution_count": 5,
   "metadata": {},
   "outputs": [],
   "source": [
    "df = pd.read_csv('North America/North_America.csv', index_col=0, encoding='ISO-8859-1', skiprows=0)\n",
    "df.to_excel (r'dat/North_America.xlsx', index = None, header=True)"
   ]
  },
  {
   "cell_type": "code",
   "execution_count": 6,
   "metadata": {},
   "outputs": [],
   "source": [
    "df = pd.read_csv('South America/South_America.csv', index_col=0, encoding='ISO-8859-1', skiprows=0)\n",
    "df.to_excel (r'dat/South_America.xlsx', index = None, header=True)"
   ]
  },
  {
   "cell_type": "code",
   "execution_count": 7,
   "metadata": {},
   "outputs": [],
   "source": [
    "df = pd.read_csv('Europe/Europe.csv', index_col=0, encoding='ISO-8859-1', skiprows=0)\n",
    "df.to_excel (r'dat/Europe.xlsx', index = None, header=True)"
   ]
  },
  {
   "cell_type": "code",
   "execution_count": 8,
   "metadata": {},
   "outputs": [],
   "source": [
    "df = pd.read_csv('Asia/Asia.csv', index_col=0, encoding='ISO-8859-1', skiprows=0)\n",
    "df.to_excel (r'dat/Asia.xlsx', index = None, header=True)"
   ]
  },
  {
   "cell_type": "code",
   "execution_count": 9,
   "metadata": {},
   "outputs": [],
   "source": [
    "df = pd.read_csv('Africa/Africa.csv', index_col=0, encoding='ISO-8859-1', skiprows=0)\n",
    "df.to_excel (r'dat/Africa.xlsx', index = None, header=True)"
   ]
  },
  {
   "cell_type": "code",
   "execution_count": 10,
   "metadata": {},
   "outputs": [],
   "source": [
    "df = pd.read_csv('Australia/Australia.csv', index_col=0, encoding='ISO-8859-1', skiprows=0)\n",
    "df.to_excel (r'dat/Australia.xlsx', index = None, header=True)"
   ]
  },
  {
   "cell_type": "code",
   "execution_count": null,
   "metadata": {},
   "outputs": [],
   "source": [
    "created_at\ttext\tsentiment_values\tsentiment_name\tcountry\tlocation\tfollowers\tfriends\tlisted_count\tfavourites_count\tverified\tstatuses_count\tcontributors_enabled\tprofile_image_url\n"
   ]
  }
 ],
 "metadata": {
  "kernelspec": {
   "display_name": "Python 3",
   "language": "python",
   "name": "python3"
  },
  "language_info": {
   "codemirror_mode": {
    "name": "ipython",
    "version": 3
   },
   "file_extension": ".py",
   "mimetype": "text/x-python",
   "name": "python",
   "nbconvert_exporter": "python",
   "pygments_lexer": "ipython3",
   "version": "3.7.3"
  }
 },
 "nbformat": 4,
 "nbformat_minor": 2
}
