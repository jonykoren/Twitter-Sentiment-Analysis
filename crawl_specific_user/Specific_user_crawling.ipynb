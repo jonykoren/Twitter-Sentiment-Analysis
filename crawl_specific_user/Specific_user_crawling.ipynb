{
 "cells": [
  {
   "cell_type": "code",
   "execution_count": 20,
   "metadata": {},
   "outputs": [],
   "source": [
    "import tweepy \n",
    "import csv\n",
    "import pandas as pd\n",
    "from IPython.display import Image\n",
    "\n",
    "# Credentials\n",
    "consumer_key = 'Wgpn3qWoGPQTgEWsEMQh8r9mD'\n",
    "consumer_secret = 'cQ2MuFTP7rYpa1U87ILoZ21y5uJaznqmRhWJbFACnKRtQHHjEX'\n",
    "access_token = '2726706352-YyofT7VTjRKvY9jZvG8nP1Chqzp8PN3V9y1uvg0'\n",
    "access_secret = 'U94tdlig7mhSCCFs48kmCRPNKl4NhTOOAB8rBflRJ9G5s'"
   ]
  },
  {
   "cell_type": "code",
   "execution_count": 27,
   "metadata": {},
   "outputs": [],
   "source": [
    "required_user = '@YairNetanyahu'\n",
    "img_user = \"data:image/jpeg;base64,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\""
   ]
  },
  {
   "cell_type": "code",
   "execution_count": 28,
   "metadata": {},
   "outputs": [
    {
     "data": {
      "text/html": [
       "<img src=\"data:image/jpeg;base64,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\" width=\"100\" height=\"100\"/>"
      ],
      "text/plain": [
       "<IPython.core.display.Image object>"
      ]
     },
     "execution_count": 28,
     "metadata": {},
     "output_type": "execute_result"
    }
   ],
   "source": [
    "Image(url= img_user, width=100, height=100)"
   ]
  },
  {
   "cell_type": "code",
   "execution_count": 16,
   "metadata": {},
   "outputs": [
    {
     "name": "stdout",
     "output_type": "stream",
     "text": [
      "Done Extracting Tweets of @YairNetanyahu!\n"
     ]
    }
   ],
   "source": [
    "#Remove characters that are not important/harm the strings\n",
    "def strip_undesired_chars(tweet):\n",
    "    stripped_tweet = tweet.replace('\\n', ' ').replace('\\r', '')\n",
    "    char_list = [stripped_tweet[j] for j in range(len(stripped_tweet)) if ord(stripped_tweet[j]) in range(65536)]\n",
    "    stripped_tweet=''\n",
    "    for j in char_list:\n",
    "        stripped_tweet=stripped_tweet+j\n",
    "    return stripped_tweet\n",
    "\n",
    "def get_all_tweets(screen_name):\n",
    "    limit_number = 10\n",
    "    \n",
    "    #authentication\n",
    "    auth = tweepy.OAuthHandler(consumer_key, consumer_secret)\n",
    "    auth.set_access_token(access_token, access_secret)\n",
    "    api = tweepy.API(auth)\n",
    "    \n",
    "    # tweets list\n",
    "    alltweets = []    \n",
    "    \n",
    "    # Streaming tweets for specific n tweets\n",
    "    new_tweets = api.user_timeline(screen_name = screen_name,count=200)\n",
    "    \n",
    "    # save\n",
    "    alltweets.extend(new_tweets)\n",
    "    \n",
    "    # save the ID of tweet plus previous minus 1\n",
    "    oldest = alltweets[-1].id - 1\n",
    "    \n",
    "    # iterate over all tweets until no one left\n",
    "    while len(new_tweets) > 0 and len(alltweets) <= limit_number:\n",
    "        print (\"getting tweets before\" + str(oldest))\n",
    "        \n",
    "        # remove duplicated \n",
    "        new_tweets = api.user_timeline(screen_name = screen_name,count=200,max_id=oldest)\n",
    "        \n",
    "        # extend new tweets\n",
    "        alltweets.extend(new_tweets)\n",
    "        \n",
    "        # define oldest tweets\n",
    "        oldest = alltweets[-1].id - 1\n",
    "        \n",
    "        # inform the programmer of how many tweets (for large amount of data is nice!)\n",
    "        print (str(len(alltweets)) + \" tweets downloaded until now...\")\n",
    "    \n",
    "    # transform tweets to csv\n",
    "    outtweets = [(tweet.id_str, tweet.created_at, strip_undesired_chars(tweet.text),tweet.retweet_count,str(tweet.favorite_count)+'') for tweet in alltweets]\n",
    "    \n",
    "    # write the csv file   \n",
    "    with open('%s.csv' % screen_name, \"w\", newline='') as f:       \n",
    "        writer = csv.writer(f, quoting=csv.QUOTE_ALL)\n",
    "        writer.writerow(['id','created_at','text','retweet_count','favorite_count'''])\n",
    "        writer.writerows(outtweets)    \n",
    "    pass\n",
    "\n",
    "if __name__ == '__main__':\n",
    "    \n",
    "    get_all_tweets(required_user)\n",
    "    print(\"Done Extracting Tweets of \" +required_user+ \"!\")\n",
    "\n"
   ]
  },
  {
   "cell_type": "code",
   "execution_count": 18,
   "metadata": {},
   "outputs": [
    {
     "name": "stdout",
     "output_type": "stream",
     "text": [
      "File saved successfuly!\n"
     ]
    }
   ],
   "source": [
    "# !pip install xlsxwriter\n",
    "df1=pd.read_csv(required_user+\".csv\")\n",
    "# Create a Pandas Excel writer using XlsxWriter as the engine.\n",
    "writer = pd.ExcelWriter(required_user+'.xlsx', engine='xlsxwriter')\n",
    "\n",
    "# Convert the dataframe to an XlsxWriter Excel object.\n",
    "df1.to_excel(writer, sheet_name='Sheet1')\n",
    "\n",
    "# Close the Pandas Excel writer and output the Excel file.\n",
    "writer.save()\n",
    "\n",
    "print(\"File saved successfuly!\")"
   ]
  }
 ],
 "metadata": {
  "kernelspec": {
   "display_name": "Python 3",
   "language": "python",
   "name": "python3"
  },
  "language_info": {
   "codemirror_mode": {
    "name": "ipython",
    "version": 3
   },
   "file_extension": ".py",
   "mimetype": "text/x-python",
   "name": "python",
   "nbconvert_exporter": "python",
   "pygments_lexer": "ipython3",
   "version": "3.7.3"
  }
 },
 "nbformat": 4,
 "nbformat_minor": 2
}
