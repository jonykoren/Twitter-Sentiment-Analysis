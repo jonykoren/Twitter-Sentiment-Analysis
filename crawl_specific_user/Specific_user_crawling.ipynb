{
 "cells": [
  {
   "cell_type": "code",
   "execution_count": 20,
   "metadata": {},
   "outputs": [],
   "source": [
    "import tweepy \n",
    "import csv\n",
    "import pandas as pd\n",
    "from IPython.display import Image\n",
    "\n",
    "# Credentials\n",
    "consumer_key = 'XXX'\n",
    "consumer_secret = 'XXX'\n",
    "access_token = 'XXX'\n",
    "access_secret = 'XXX'"
   ]
  },
  {
   "cell_type": "code",
   "execution_count": 31,
   "metadata": {},
   "outputs": [],
   "source": [
    "required_user = '@YairNetanyahu'\n",
    "img_user = \"https://cdn.the7eye.org.il/uploads/2018/09/F180605FFF022.jpg\""
   ]
  },
  {
   "cell_type": "code",
   "execution_count": 36,
   "metadata": {},
   "outputs": [
    {
     "data": {
      "text/html": [
       "<img src=\"https://cdn.the7eye.org.il/uploads/2018/09/F180605FFF022.jpg\" width=\"300\" height=\"200\"/>"
      ],
      "text/plain": [
       "<IPython.core.display.Image object>"
      ]
     },
     "execution_count": 36,
     "metadata": {},
     "output_type": "execute_result"
    }
   ],
   "source": [
    "Image(url= img_user, width=300, height=200)"
   ]
  },
  {
   "cell_type": "code",
   "execution_count": 16,
   "metadata": {},
   "outputs": [
    {
     "name": "stdout",
     "output_type": "stream",
     "text": [
      "Done Extracting Tweets of @YairNetanyahu!\n"
     ]
    }
   ],
   "source": [
    "#Remove characters that are not important/harm the strings\n",
    "def strip_undesired_chars(tweet):\n",
    "    stripped_tweet = tweet.replace('\\n', ' ').replace('\\r', '')\n",
    "    char_list = [stripped_tweet[j] for j in range(len(stripped_tweet)) if ord(stripped_tweet[j]) in range(65536)]\n",
    "    stripped_tweet=''\n",
    "    for j in char_list:\n",
    "        stripped_tweet=stripped_tweet+j\n",
    "    return stripped_tweet\n",
    "\n",
    "def get_all_tweets(screen_name):\n",
    "    limit_number = 10\n",
    "    \n",
    "    #authentication\n",
    "    auth = tweepy.OAuthHandler(consumer_key, consumer_secret)\n",
    "    auth.set_access_token(access_token, access_secret)\n",
    "    api = tweepy.API(auth)\n",
    "    \n",
    "    # tweets list\n",
    "    alltweets = []    \n",
    "    \n",
    "    # Streaming tweets for specific n tweets\n",
    "    new_tweets = api.user_timeline(screen_name = screen_name,count=200)\n",
    "    \n",
    "    # save\n",
    "    alltweets.extend(new_tweets)\n",
    "    \n",
    "    # save the ID of tweet plus previous minus 1\n",
    "    oldest = alltweets[-1].id - 1\n",
    "    \n",
    "    # iterate over all tweets until no one left\n",
    "    while len(new_tweets) > 0 and len(alltweets) <= limit_number:\n",
    "        print (\"getting tweets before\" + str(oldest))\n",
    "        \n",
    "        # remove duplicated \n",
    "        new_tweets = api.user_timeline(screen_name = screen_name,count=200,max_id=oldest)\n",
    "        \n",
    "        # extend new tweets\n",
    "        alltweets.extend(new_tweets)\n",
    "        \n",
    "        # define oldest tweets\n",
    "        oldest = alltweets[-1].id - 1\n",
    "        \n",
    "        # inform the programmer of how many tweets (for large amount of data is nice!)\n",
    "        print (str(len(alltweets)) + \" tweets downloaded until now...\")\n",
    "    \n",
    "    # transform tweets to csv\n",
    "    outtweets = [(tweet.id_str, tweet.created_at, strip_undesired_chars(tweet.text),tweet.retweet_count,str(tweet.favorite_count)+'') for tweet in alltweets]\n",
    "    \n",
    "    # write the csv file   \n",
    "    with open('%s.csv' % screen_name, \"w\", newline='') as f:       \n",
    "        writer = csv.writer(f, quoting=csv.QUOTE_ALL)\n",
    "        writer.writerow(['id','created_at','text','retweet_count','favorite_count'''])\n",
    "        writer.writerows(outtweets)    \n",
    "    pass\n",
    "\n",
    "if __name__ == '__main__':\n",
    "    \n",
    "    get_all_tweets(required_user)\n",
    "    print(\"Done Extracting Tweets of \" +required_user+ \"!\")\n",
    "\n"
   ]
  },
  {
   "cell_type": "code",
   "execution_count": 18,
   "metadata": {},
   "outputs": [
    {
     "name": "stdout",
     "output_type": "stream",
     "text": [
      "File saved successfuly!\n"
     ]
    }
   ],
   "source": [
    "# !pip install xlsxwriter\n",
    "df1=pd.read_csv(required_user+\".csv\")\n",
    "# Create a Pandas Excel writer using XlsxWriter as the engine.\n",
    "writer = pd.ExcelWriter(required_user+'.xlsx', engine='xlsxwriter')\n",
    "\n",
    "# Convert the dataframe to an XlsxWriter Excel object.\n",
    "df1.to_excel(writer, sheet_name='Sheet1')\n",
    "\n",
    "# Close the Pandas Excel writer and output the Excel file.\n",
    "writer.save()\n",
    "\n",
    "print(\"File saved successfuly!\")"
   ]
  }
 ],
 "metadata": {
  "kernelspec": {
   "display_name": "Python 3",
   "language": "python",
   "name": "python3"
  },
  "language_info": {
   "codemirror_mode": {
    "name": "ipython",
    "version": 3
   },
   "file_extension": ".py",
   "mimetype": "text/x-python",
   "name": "python",
   "nbconvert_exporter": "python",
   "pygments_lexer": "ipython3",
   "version": "3.7.3"
  }
 },
 "nbformat": 4,
 "nbformat_minor": 2
}
